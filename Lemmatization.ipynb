{
 "cells": [
  {
   "cell_type": "code",
   "execution_count": 1,
   "metadata": {},
   "outputs": [],
   "source": [
    "import nltk\n",
    "from nltk.stem import WordNetLemmatizer\n",
    "from nltk.corpus import stopwords"
   ]
  },
  {
   "cell_type": "code",
   "execution_count": 2,
   "metadata": {},
   "outputs": [],
   "source": [
    "paragraph = \"\"\" I have three visions for INDIA.In 3000 years of our history, People from all over the world come and invaded us, ca\n",
    "                 captures our lamd, conqured our minds. From Alexander onwards, the Greek,the Turk,the Moguls,the Portugese ,the British,\n",
    "                 the French, the Dutch all the come and looted us, took over what was ours.Yet we have not done to any other nation. \n",
    "                 We have not coquored anyone.We have not grabbed their land,their culture,theri history and tried to enforce our way of life on them.\n",
    "                 Why? Because we respect the freedom of others.That is why my first vision is that freedom.I believe that India got its\n",
    "                 first vision of this in 1857, when we started the War of Independence. It is this freedom that we must protect mad murture and build on.\n",
    "                 If we are not free, noone will respexct us. My second vision for Inidas Development.\"\"\"\n",
    "                 "
   ]
  },
  {
   "cell_type": "code",
   "execution_count": 3,
   "metadata": {},
   "outputs": [],
   "source": [
    "sentences = nltk.sent_tokenize(paragraph)\n",
    "lemmatizer = WordNetLemmatizer()"
   ]
  },
  {
   "cell_type": "markdown",
   "metadata": {},
   "source": [
    "# Lemmatizing"
   ]
  },
  {
   "cell_type": "code",
   "execution_count": 4,
   "metadata": {},
   "outputs": [],
   "source": [
    "for i in range(len(sentences)):\n",
    "    words  = nltk.word_tokenize(sentences[i])\n",
    "    words = [lemmatizer.lemmatize(word) for word in words if word not in set(stopwords.words('english'))]\n",
    "    sentences[i] = ' '.join(words)"
   ]
  },
  {
   "cell_type": "code",
   "execution_count": 5,
   "metadata": {},
   "outputs": [
    {
     "name": "stdout",
     "output_type": "stream",
     "text": [
      "['I three vision INDIA.In 3000 year history , People world come invaded u , ca capture lamd , conqured mind .', 'From Alexander onwards , Greek , Turk , Moguls , Portugese , British , French , Dutch come looted u , took ours.Yet done nation .', 'We coquored anyone.We grabbed land , culture , theri history tried enforce way life .', 'Why ?', 'Because respect freedom others.That first vision freedom.I believe India got first vision 1857 , started War Independence .', 'It freedom must protect mad murture build .', 'If free , noone respexct u .', 'My second vision Inidas Development .']\n"
     ]
    }
   ],
   "source": [
    "print(sentences)\n"
   ]
  },
  {
   "cell_type": "code",
   "execution_count": null,
   "metadata": {},
   "outputs": [],
   "source": []
  }
 ],
 "metadata": {
  "kernelspec": {
   "display_name": "Python 3",
   "language": "python",
   "name": "python3"
  },
  "language_info": {
   "codemirror_mode": {
    "name": "ipython",
    "version": 3
   },
   "file_extension": ".py",
   "mimetype": "text/x-python",
   "name": "python",
   "nbconvert_exporter": "python",
   "pygments_lexer": "ipython3",
   "version": "3.7.4"
  }
 },
 "nbformat": 4,
 "nbformat_minor": 2
}
