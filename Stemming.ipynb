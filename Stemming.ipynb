{
 "cells": [
  {
   "cell_type": "code",
   "execution_count": 10,
   "metadata": {},
   "outputs": [],
   "source": [
    "import nltk\n",
    "from nltk.stem import PorterStemmer\n",
    "from nltk.corpus import stopwords"
   ]
  },
  {
   "cell_type": "code",
   "execution_count": 11,
   "metadata": {},
   "outputs": [],
   "source": [
    "paragraph = \"\"\" I have three visions for INDIA.In 3000 years of our history, People from all over the world come and invaded us, ca\n",
    "                 captures our lamd, conqured our minds. From Alexander onwards, the Greek,the Turk,the Moguls,the Portugese ,the British,\n",
    "                 the French, the Dutch all the come and looted us, took over what was ours.Yet we have not done to any other nation. \n",
    "                 We have not coquored anyone.We have not grabbed their land,their culture,theri history and tried to enforce our way of life on them.\n",
    "                 Why? Because we respect the freedom of others.That is why my first vision is that freedom.I believe that India got its\n",
    "                 first vision of this in 1857, when we started the War of Independence. It is this freedom that we must protect mad murture and build on.\n",
    "                 If we are not free, noone will respexct us. My second vision for Inidas Development.\"\"\"\n",
    "                 "
   ]
  },
  {
   "cell_type": "code",
   "execution_count": 12,
   "metadata": {},
   "outputs": [],
   "source": [
    "sentences = nltk.sent_tokenize(paragraph)\n",
    "stemmer  = PorterStemmer()"
   ]
  },
  {
   "cell_type": "markdown",
   "metadata": {},
   "source": [
    "## Stemming"
   ]
  },
  {
   "cell_type": "code",
   "execution_count": 15,
   "metadata": {},
   "outputs": [],
   "source": [
    "for i in range(len(sentences)):\n",
    "    words = nltk.word_tokenize(sentences[i])\n",
    "    words = [stemmer.stem(word) for word in words if word not in set(stopwords.words('english'))]\n",
    "    sentences[i]=' '.join(words)\n",
    "    "
   ]
  },
  {
   "cell_type": "code",
   "execution_count": 16,
   "metadata": {},
   "outputs": [
    {
     "name": "stdout",
     "output_type": "stream",
     "text": [
      "['I three vision india.in 3000 year histori , peopl world come invad us , ca captur lamd , conqur mind .', 'from alexand onward , greek , turk , mogul , portuges , british , french , dutch come loot us , took ours.yet done nation .', 'We coquor anyone.w grab land , cultur , theri histori tri enforc way life .', 'whi ?', 'becaus respect freedom others.that first vision freedom.i believ india got first vision 1857 , start war independ .', 'It freedom must protect mad murtur build .', 'If free , noon respexct us .', 'My second vision inida develop .']\n"
     ]
    }
   ],
   "source": [
    "print(sentences)"
   ]
  },
  {
   "cell_type": "code",
   "execution_count": null,
   "metadata": {},
   "outputs": [],
   "source": []
  }
 ],
 "metadata": {
  "kernelspec": {
   "display_name": "Python 3",
   "language": "python",
   "name": "python3"
  },
  "language_info": {
   "codemirror_mode": {
    "name": "ipython",
    "version": 3
   },
   "file_extension": ".py",
   "mimetype": "text/x-python",
   "name": "python",
   "nbconvert_exporter": "python",
   "pygments_lexer": "ipython3",
   "version": "3.7.4"
  }
 },
 "nbformat": 4,
 "nbformat_minor": 2
}
