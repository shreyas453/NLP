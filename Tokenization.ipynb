{
 "cells": [
  {
   "cell_type": "code",
   "execution_count": 12,
   "metadata": {},
   "outputs": [],
   "source": [
    "import nltk"
   ]
  },
  {
   "cell_type": "code",
   "execution_count": 13,
   "metadata": {},
   "outputs": [
    {
     "name": "stdout",
     "output_type": "stream",
     "text": [
      "showing info https://raw.githubusercontent.com/nltk/nltk_data/gh-pages/index.xml\n"
     ]
    },
    {
     "data": {
      "text/plain": [
       "True"
      ]
     },
     "execution_count": 13,
     "metadata": {},
     "output_type": "execute_result"
    }
   ],
   "source": [
    "nltk.download()"
   ]
  },
  {
   "cell_type": "code",
   "execution_count": 16,
   "metadata": {},
   "outputs": [],
   "source": [
    "paragraph = \"\"\" I have three visions for INDIA.In 3000 years of our history, People from all over the world come and invaded us, ca\n",
    "                 captures our lamd, conqured our minds. From Alexander onwards, the Greek,the Turk,the Moguls,the Portugese ,the British,\n",
    "                 the French, the Dutch all the come and looted us, took over what was ours.Yet we have not done to any other nation. \n",
    "                 We have not coquored anyone.We have not grabbed their land,their culture,theri history and tried to enforce our way of life on them.\n",
    "                 Why? Because we respect the freedom of others.That is why my first vision is that freedom.I believe that India got its\n",
    "                 first vision of this in 1857, when we started the War of Independence. It is this freedom that we must protect mad murture and build on.\"\"\"\n",
    "                 "
   ]
  },
  {
   "cell_type": "code",
   "execution_count": 17,
   "metadata": {},
   "outputs": [],
   "source": [
    "sentence=nltk.sent_tokenize(paragraph)"
   ]
  },
  {
   "cell_type": "code",
   "execution_count": 18,
   "metadata": {},
   "outputs": [
    {
     "name": "stdout",
     "output_type": "stream",
     "text": [
      "[' I have three visions for INDIA.In 3000 years of our history, People from all over the world come and invaded us, ca\\n                 captures our lamd, conqured our minds.', 'From Alexander onwards, the Greek,the Turk,the Moguls,the Portugese ,the British,\\n                 the French, the Dutch all the come and looted us, took over what was ours.Yet we have not done to any other nation.', 'We have not coquored anyone.We have not grabbed their land,their culture,theri history and tried to enforce our way of life on them.', 'Why?', 'Because we respect the freedom of others.That is why my first vision is that freedom.I believe that India got its\\n                 first vision of this in 1857, when we started the War of Independence.', 'It is this freedom that we must protect mad murture and build on.']\n"
     ]
    }
   ],
   "source": [
    "print(sentence)"
   ]
  },
  {
   "cell_type": "code",
   "execution_count": 19,
   "metadata": {},
   "outputs": [
    {
     "name": "stdout",
     "output_type": "stream",
     "text": [
      "['I', 'have', 'three', 'visions', 'for', 'INDIA.In', '3000', 'years', 'of', 'our', 'history', ',', 'People', 'from', 'all', 'over', 'the', 'world', 'come', 'and', 'invaded', 'us', ',', 'ca', 'captures', 'our', 'lamd', ',', 'conqured', 'our', 'minds', '.', 'From', 'Alexander', 'onwards', ',', 'the', 'Greek', ',', 'the', 'Turk', ',', 'the', 'Moguls', ',', 'the', 'Portugese', ',', 'the', 'British', ',', 'the', 'French', ',', 'the', 'Dutch', 'all', 'the', 'come', 'and', 'looted', 'us', ',', 'took', 'over', 'what', 'was', 'ours.Yet', 'we', 'have', 'not', 'done', 'to', 'any', 'other', 'nation', '.', 'We', 'have', 'not', 'coquored', 'anyone.We', 'have', 'not', 'grabbed', 'their', 'land', ',', 'their', 'culture', ',', 'theri', 'history', 'and', 'tried', 'to', 'enforce', 'our', 'way', 'of', 'life', 'on', 'them', '.', 'Why', '?', 'Because', 'we', 'respect', 'the', 'freedom', 'of', 'others.That', 'is', 'why', 'my', 'first', 'vision', 'is', 'that', 'freedom.I', 'believe', 'that', 'India', 'got', 'its', 'first', 'vision', 'of', 'this', 'in', '1857', ',', 'when', 'we', 'started', 'the', 'War', 'of', 'Independence', '.', 'It', 'is', 'this', 'freedom', 'that', 'we', 'must', 'protect', 'mad', 'murture', 'and', 'build', 'on', '.']\n"
     ]
    }
   ],
   "source": [
    "words=nltk.word_tokenize(paragraph)\n",
    "print(words)"
   ]
  },
  {
   "cell_type": "code",
   "execution_count": null,
   "metadata": {},
   "outputs": [],
   "source": []
  }
 ],
 "metadata": {
  "kernelspec": {
   "display_name": "Python 3",
   "language": "python",
   "name": "python3"
  },
  "language_info": {
   "codemirror_mode": {
    "name": "ipython",
    "version": 3
   },
   "file_extension": ".py",
   "mimetype": "text/x-python",
   "name": "python",
   "nbconvert_exporter": "python",
   "pygments_lexer": "ipython3",
   "version": "3.7.4"
  }
 },
 "nbformat": 4,
 "nbformat_minor": 2
}
